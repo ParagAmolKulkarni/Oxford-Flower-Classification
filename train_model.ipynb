{
 "cells": [
  {
   "cell_type": "code",
   "execution_count": 17,
   "id": "42ced33d-f7b3-4848-8265-b68a1ccf4fe6",
   "metadata": {},
   "outputs": [
    {
     "name": "stderr",
     "output_type": "stream",
     "text": [
      "Epoch 1/20: 100%|██████████████████████████████████████████████████████████████████████| 16/16 [00:26<00:00,  1.64s/it]\n"
     ]
    },
    {
     "name": "stdout",
     "output_type": "stream",
     "text": [
      "\n",
      "Epoch 1 Results:\n",
      "Accuracy: 2.24%\n",
      "--------------------------------------------------\n"
     ]
    },
    {
     "name": "stderr",
     "output_type": "stream",
     "text": [
      "Epoch 2/20: 100%|██████████████████████████████████████████████████████████████████████| 16/16 [00:23<00:00,  1.49s/it]\n"
     ]
    },
    {
     "name": "stdout",
     "output_type": "stream",
     "text": [
      "\n",
      "Epoch 2 Results:\n",
      "Accuracy: 4.99%\n",
      "--------------------------------------------------\n"
     ]
    },
    {
     "name": "stderr",
     "output_type": "stream",
     "text": [
      "Epoch 3/20: 100%|██████████████████████████████████████████████████████████████████████| 16/16 [00:23<00:00,  1.50s/it]\n"
     ]
    },
    {
     "name": "stdout",
     "output_type": "stream",
     "text": [
      "\n",
      "Epoch 3 Results:\n",
      "Accuracy: 10.07%\n",
      "--------------------------------------------------\n"
     ]
    },
    {
     "name": "stderr",
     "output_type": "stream",
     "text": [
      "Epoch 4/20: 100%|██████████████████████████████████████████████████████████████████████| 16/16 [00:24<00:00,  1.51s/it]\n"
     ]
    },
    {
     "name": "stdout",
     "output_type": "stream",
     "text": [
      "\n",
      "Epoch 4 Results:\n",
      "Accuracy: 17.65%\n",
      "--------------------------------------------------\n"
     ]
    },
    {
     "name": "stderr",
     "output_type": "stream",
     "text": [
      "Epoch 5/20: 100%|██████████████████████████████████████████████████████████████████████| 16/16 [00:24<00:00,  1.52s/it]\n"
     ]
    },
    {
     "name": "stdout",
     "output_type": "stream",
     "text": [
      "\n",
      "Epoch 5 Results:\n",
      "Accuracy: 26.75%\n",
      "--------------------------------------------------\n"
     ]
    },
    {
     "name": "stderr",
     "output_type": "stream",
     "text": [
      "Epoch 6/20: 100%|██████████████████████████████████████████████████████████████████████| 16/16 [00:25<00:00,  1.59s/it]\n"
     ]
    },
    {
     "name": "stdout",
     "output_type": "stream",
     "text": [
      "\n",
      "Epoch 6 Results:\n",
      "Accuracy: 34.66%\n",
      "--------------------------------------------------\n"
     ]
    },
    {
     "name": "stderr",
     "output_type": "stream",
     "text": [
      "Epoch 7/20: 100%|██████████████████████████████████████████████████████████████████████| 16/16 [00:24<00:00,  1.53s/it]\n"
     ]
    },
    {
     "name": "stdout",
     "output_type": "stream",
     "text": [
      "\n",
      "Epoch 7 Results:\n",
      "Accuracy: 41.75%\n",
      "--------------------------------------------------\n"
     ]
    },
    {
     "name": "stderr",
     "output_type": "stream",
     "text": [
      "Epoch 8/20: 100%|██████████████████████████████████████████████████████████████████████| 16/16 [00:24<00:00,  1.54s/it]\n"
     ]
    },
    {
     "name": "stdout",
     "output_type": "stream",
     "text": [
      "\n",
      "Epoch 8 Results:\n",
      "Accuracy: 47.26%\n",
      "--------------------------------------------------\n"
     ]
    },
    {
     "name": "stderr",
     "output_type": "stream",
     "text": [
      "Epoch 9/20: 100%|██████████████████████████████████████████████████████████████████████| 16/16 [00:25<00:00,  1.57s/it]\n"
     ]
    },
    {
     "name": "stdout",
     "output_type": "stream",
     "text": [
      "\n",
      "Epoch 9 Results:\n",
      "Accuracy: 52.63%\n",
      "--------------------------------------------------\n"
     ]
    },
    {
     "name": "stderr",
     "output_type": "stream",
     "text": [
      "Epoch 10/20: 100%|█████████████████████████████████████████████████████████████████████| 16/16 [00:24<00:00,  1.56s/it]\n"
     ]
    },
    {
     "name": "stdout",
     "output_type": "stream",
     "text": [
      "\n",
      "Epoch 10 Results:\n",
      "Accuracy: 56.66%\n",
      "--------------------------------------------------\n"
     ]
    },
    {
     "name": "stderr",
     "output_type": "stream",
     "text": [
      "Epoch 11/20: 100%|█████████████████████████████████████████████████████████████████████| 16/16 [00:25<00:00,  1.61s/it]\n"
     ]
    },
    {
     "name": "stdout",
     "output_type": "stream",
     "text": [
      "\n",
      "Epoch 11 Results:\n",
      "Accuracy: 60.37%\n",
      "--------------------------------------------------\n"
     ]
    },
    {
     "name": "stderr",
     "output_type": "stream",
     "text": [
      "Epoch 12/20: 100%|█████████████████████████████████████████████████████████████████████| 16/16 [00:24<00:00,  1.54s/it]\n"
     ]
    },
    {
     "name": "stdout",
     "output_type": "stream",
     "text": [
      "\n",
      "Epoch 12 Results:\n",
      "Accuracy: 63.25%\n",
      "--------------------------------------------------\n"
     ]
    },
    {
     "name": "stderr",
     "output_type": "stream",
     "text": [
      "Epoch 13/20: 100%|█████████████████████████████████████████████████████████████████████| 16/16 [00:23<00:00,  1.47s/it]\n"
     ]
    },
    {
     "name": "stdout",
     "output_type": "stream",
     "text": [
      "\n",
      "Epoch 13 Results:\n",
      "Accuracy: 65.39%\n",
      "--------------------------------------------------\n"
     ]
    },
    {
     "name": "stderr",
     "output_type": "stream",
     "text": [
      "Epoch 14/20: 100%|█████████████████████████████████████████████████████████████████████| 16/16 [00:23<00:00,  1.47s/it]\n"
     ]
    },
    {
     "name": "stdout",
     "output_type": "stream",
     "text": [
      "\n",
      "Epoch 14 Results:\n",
      "Accuracy: 67.86%\n",
      "--------------------------------------------------\n"
     ]
    },
    {
     "name": "stderr",
     "output_type": "stream",
     "text": [
      "Epoch 15/20: 100%|█████████████████████████████████████████████████████████████████████| 16/16 [00:23<00:00,  1.47s/it]\n"
     ]
    },
    {
     "name": "stdout",
     "output_type": "stream",
     "text": [
      "\n",
      "Epoch 15 Results:\n",
      "Accuracy: 69.85%\n",
      "--------------------------------------------------\n"
     ]
    },
    {
     "name": "stderr",
     "output_type": "stream",
     "text": [
      "Epoch 16/20: 100%|█████████████████████████████████████████████████████████████████████| 16/16 [00:23<00:00,  1.46s/it]\n"
     ]
    },
    {
     "name": "stdout",
     "output_type": "stream",
     "text": [
      "\n",
      "Epoch 16 Results:\n",
      "Accuracy: 71.51%\n",
      "--------------------------------------------------\n"
     ]
    },
    {
     "name": "stderr",
     "output_type": "stream",
     "text": [
      "Epoch 17/20: 100%|█████████████████████████████████████████████████████████████████████| 16/16 [00:25<00:00,  1.60s/it]\n"
     ]
    },
    {
     "name": "stdout",
     "output_type": "stream",
     "text": [
      "\n",
      "Epoch 17 Results:\n",
      "Accuracy: 72.37%\n",
      "--------------------------------------------------\n"
     ]
    },
    {
     "name": "stderr",
     "output_type": "stream",
     "text": [
      "Epoch 18/20: 100%|█████████████████████████████████████████████████████████████████████| 16/16 [00:23<00:00,  1.49s/it]\n"
     ]
    },
    {
     "name": "stdout",
     "output_type": "stream",
     "text": [
      "\n",
      "Epoch 18 Results:\n",
      "Accuracy: 74.35%\n",
      "--------------------------------------------------\n"
     ]
    },
    {
     "name": "stderr",
     "output_type": "stream",
     "text": [
      "Epoch 19/20: 100%|█████████████████████████████████████████████████████████████████████| 16/16 [00:24<00:00,  1.50s/it]\n"
     ]
    },
    {
     "name": "stdout",
     "output_type": "stream",
     "text": [
      "\n",
      "Epoch 19 Results:\n",
      "Accuracy: 75.61%\n",
      "--------------------------------------------------\n"
     ]
    },
    {
     "name": "stderr",
     "output_type": "stream",
     "text": [
      "Epoch 20/20: 100%|█████████████████████████████████████████████████████████████████████| 16/16 [00:23<00:00,  1.48s/it]\n"
     ]
    },
    {
     "name": "stdout",
     "output_type": "stream",
     "text": [
      "\n",
      "Epoch 20 Results:\n",
      "Accuracy: 76.00%\n",
      "--------------------------------------------------\n",
      "\n",
      "Classification Report:\n",
      "              precision    recall  f1-score   support\n",
      "\n",
      "   class_001       0.33      0.85      0.48        20\n",
      "   class_002       1.00      0.93      0.96        40\n",
      "   class_003       0.67      0.30      0.41        20\n",
      "   class_004       0.41      0.36      0.38        36\n",
      "   class_005       0.66      0.73      0.69        45\n",
      "   class_006       0.73      0.88      0.80        25\n",
      "   class_007       0.47      0.80      0.59        20\n",
      "   class_008       0.85      0.98      0.91        65\n",
      "   class_009       0.54      0.81      0.65        26\n",
      "   class_010       0.92      0.96      0.94        25\n",
      "   class_011       0.58      0.39      0.46        67\n",
      "   class_012       0.92      0.87      0.89        67\n",
      "   class_013       0.79      0.93      0.86        29\n",
      "   class_014       0.64      0.96      0.77        28\n",
      "   class_015       0.93      0.97      0.95        29\n",
      "   class_016       0.50      0.86      0.63        21\n",
      "   class_017       0.94      0.91      0.92        65\n",
      "   class_018       0.88      0.68      0.76        62\n",
      "   class_019       0.54      0.69      0.61        29\n",
      "   class_020       0.79      0.72      0.75        36\n",
      "   class_021       0.55      0.80      0.65        20\n",
      "   class_022       0.71      0.82      0.76        39\n",
      "   class_023       0.95      0.83      0.89        71\n",
      "   class_024       0.72      0.82      0.77        22\n",
      "   class_025       0.70      0.90      0.79        21\n",
      "   class_026       0.55      0.86      0.67        21\n",
      "   class_027       0.90      0.90      0.90        20\n",
      "   class_028       0.67      0.93      0.78        46\n",
      "   class_029       0.90      0.76      0.82        58\n",
      "   class_030       0.51      0.66      0.57        65\n",
      "   class_031       0.53      0.62      0.57        32\n",
      "   class_032       0.29      0.40      0.34        25\n",
      "   class_033       0.67      0.92      0.77        26\n",
      "   class_034       0.71      0.85      0.77        20\n",
      "   class_035       0.77      1.00      0.87        23\n",
      "   class_036       0.72      0.60      0.65        55\n",
      "   class_037       0.93      0.99      0.96        88\n",
      "   class_038       0.65      0.67      0.66        36\n",
      "   class_039       0.28      0.52      0.37        21\n",
      "   class_040       0.76      0.62      0.68        47\n",
      "   class_041       0.93      0.80      0.86       107\n",
      "   class_042       0.62      0.87      0.72        39\n",
      "   class_043       0.91      0.45      0.60       110\n",
      "   class_044       0.55      0.92      0.69        73\n",
      "   class_045       0.50      0.90      0.64        20\n",
      "   class_046       0.76      0.97      0.85       176\n",
      "   class_047       0.94      1.00      0.97        47\n",
      "   class_048       0.74      0.90      0.81        51\n",
      "   class_049       0.83      1.00      0.91        29\n",
      "   class_050       0.92      0.93      0.92        72\n",
      "   class_051       0.82      0.47      0.60       238\n",
      "   class_052       0.85      0.89      0.87        65\n",
      "   class_053       0.65      0.48      0.55        73\n",
      "   class_054       0.93      0.95      0.94        41\n",
      "   class_055       0.73      0.84      0.78        51\n",
      "   class_056       0.85      0.93      0.89        89\n",
      "   class_057       0.85      0.94      0.89        47\n",
      "   class_058       0.65      0.97      0.78        94\n",
      "   class_059       0.85      0.96      0.90        47\n",
      "   class_060       0.83      0.99      0.90        89\n",
      "   class_061       0.83      1.00      0.91        30\n",
      "   class_062       0.62      0.69      0.65        35\n",
      "   class_063       0.97      1.00      0.99        34\n",
      "   class_064       0.89      0.97      0.93        32\n",
      "   class_065       0.96      0.88      0.92        82\n",
      "   class_066       0.95      0.95      0.95        41\n",
      "   class_067       0.54      0.68      0.60        22\n",
      "   class_068       0.81      0.65      0.72        34\n",
      "   class_069       0.78      0.91      0.84        34\n",
      "   class_070       0.89      0.93      0.91        42\n",
      "   class_071       0.97      0.98      0.97        58\n",
      "   class_072       0.49      0.66      0.56        76\n",
      "   class_073       0.92      0.75      0.83       174\n",
      "   class_074       0.86      0.58      0.69       151\n",
      "   class_075       0.82      0.83      0.83       100\n",
      "   class_076       0.91      0.72      0.81        87\n",
      "   class_077       0.98      0.88      0.93       231\n",
      "   class_078       0.73      0.68      0.70       117\n",
      "   class_079       0.72      0.86      0.78        21\n",
      "   class_080       0.77      0.85      0.80        85\n",
      "   class_081       0.89      0.99      0.94       146\n",
      "   class_082       0.71      0.66      0.69        92\n",
      "   class_083       0.80      0.48      0.60       111\n",
      "   class_084       0.56      0.52      0.54        66\n",
      "   class_085       0.49      0.91      0.63        43\n",
      "   class_086       0.61      0.89      0.72        38\n",
      "   class_087       0.54      0.91      0.68        43\n",
      "   class_088       0.77      0.40      0.52       134\n",
      "   class_089       0.79      0.71      0.75       164\n",
      "   class_090       0.67      0.48      0.56        62\n",
      "   class_091       0.57      0.79      0.66        56\n",
      "   class_092       0.77      0.87      0.82        46\n",
      "   class_093       0.65      0.50      0.57        26\n",
      "   class_094       0.92      0.80      0.85       142\n",
      "   class_095       0.86      0.67      0.75       108\n",
      "   class_096       0.59      0.27      0.37        71\n",
      "   class_097       0.68      0.46      0.55        46\n",
      "   class_098       0.72      0.50      0.59        62\n",
      "   class_099       0.79      0.88      0.84        43\n",
      "   class_100       0.74      1.00      0.85        29\n",
      "   class_101       0.55      0.55      0.55        38\n",
      "   class_102       0.81      0.89      0.85        28\n",
      "\n",
      "    accuracy                           0.76      6149\n",
      "   macro avg       0.74      0.78      0.74      6149\n",
      "weighted avg       0.78      0.76      0.76      6149\n",
      "\n",
      "\n",
      "Output Files Generated:\n",
      "- confusion_matrix.png\n",
      "- training_progress.png\n",
      "- sample_predictions.png\n",
      "- predictions.csv\n",
      "- best_model.pth\n"
     ]
    }
   ],
   "source": [
    "import ssl\n",
    "ssl._create_default_https_context = ssl._create_unverified_context\n",
    "import torch\n",
    "import matplotlib.pyplot as plt\n",
    "import numpy as np\n",
    "from torchvision import datasets, transforms, models\n",
    "from torch.utils.data import DataLoader\n",
    "from sklearn.metrics import classification_report, confusion_matrix\n",
    "import pandas as pd\n",
    "from tqdm import tqdm\n",
    "import os\n",
    "\n",
    "BATCH_SIZE = 64\n",
    "IMG_SIZE = 224\n",
    "EPOCHS = 20\n",
    "NUM_CLASSES = 102\n",
    "\n",
    "if not os.path.exists('flower_classes.txt'):\n",
    "    class_names = [f'class_{i+1:03d}' for i in range(NUM_CLASSES)]\n",
    "    with open('flower_classes.txt', 'w') as f:\n",
    "        f.write('\\n'.join(class_names))\n",
    "\n",
    "with open('flower_classes.txt') as f:\n",
    "    class_names = [line.strip() for line in f.readlines()]\n",
    "\n",
    "\n",
    "train_transform = transforms.Compose([\n",
    "    transforms.Resize(256),\n",
    "    transforms.RandomResizedCrop(IMG_SIZE),\n",
    "    transforms.RandomHorizontalFlip(),\n",
    "    transforms.ToTensor(),\n",
    "    transforms.Normalize([0.485, 0.456, 0.406], [0.229, 0.224, 0.225])\n",
    "])\n",
    "\n",
    "test_transform = transforms.Compose([\n",
    "    transforms.Resize(256),\n",
    "    transforms.CenterCrop(IMG_SIZE),\n",
    "    transforms.ToTensor(),\n",
    "    transforms.Normalize([0.485, 0.456, 0.406], [0.229, 0.224, 0.225])\n",
    "])\n",
    "\n",
    "\n",
    "train_data = datasets.Flowers102(\n",
    "    root='./data',\n",
    "    split='train',\n",
    "    transform=train_transform,\n",
    "    download=True\n",
    ")\n",
    "\n",
    "test_data = datasets.Flowers102(\n",
    "    root='./data',\n",
    "    split='test',\n",
    "    transform=test_transform\n",
    ")\n",
    "\n",
    "\n",
    "train_loader = DataLoader(train_data, BATCH_SIZE, shuffle=True, num_workers=0)\n",
    "test_loader = DataLoader(test_data, BATCH_SIZE, shuffle=False, num_workers=0)\n",
    "\n",
    "model = models.mobilenet_v3_small(weights='IMAGENET1K_V1')\n",
    "model.classifier[3] = torch.nn.Linear(model.classifier[3].in_features, NUM_CLASSES)\n",
    "device = torch.device('cuda' if torch.cuda.is_available() else 'cpu')\n",
    "model = model.to(device)\n",
    "\n",
    "for param in model.parameters():\n",
    "    param.requires_grad = False\n",
    "for param in model.classifier.parameters():\n",
    "    param.requires_grad = True\n",
    "\n",
    "criterion = torch.nn.CrossEntropyLoss()\n",
    "optimizer = torch.optim.RMSprop(model.parameters(), lr=0.0001, alpha=0.9)\n",
    "scheduler = torch.optim.lr_scheduler.StepLR(optimizer, step_size=3, gamma=0.1)\n",
    "\n",
    "best_acc = 0.0\n",
    "progress = []\n",
    "\n",
    "for epoch in range(EPOCHS):\n",
    "    model.train()\n",
    "    running_loss = 0.0\n",
    "    \n",
    "    for images, labels in tqdm(train_loader, desc=f'Epoch {epoch+1}/{EPOCHS}'):\n",
    "        images, labels = images.to(device), labels.to(device)\n",
    "        \n",
    "        optimizer.zero_grad()\n",
    "        outputs = model(images)\n",
    "        loss = criterion(outputs, labels)\n",
    "        loss.backward()\n",
    "        optimizer.step()\n",
    "        \n",
    "        running_loss += loss.item() * images.size(0)\n",
    "    \n",
    "    model.eval()\n",
    "    correct = 0\n",
    "    total = 0\n",
    "    all_preds = []\n",
    "    all_labels = []\n",
    "    \n",
    "    with torch.no_grad():\n",
    "        for images, labels in test_loader:\n",
    "            images, labels = images.to(device), labels.to(device)\n",
    "            outputs = model(images)\n",
    "            _, preds = torch.max(outputs, 1)\n",
    "            \n",
    "            all_preds.extend(preds.cpu().numpy())\n",
    "            all_labels.extend(labels.cpu().numpy())\n",
    "            \n",
    "            total += labels.size(0)\n",
    "            correct += (preds == labels).sum().item()\n",
    "    \n",
    "    epoch_acc = 100 * correct / total\n",
    "    progress.append(epoch_acc)\n",
    "    \n",
    "    print(f'\\nEpoch {epoch+1} Results:')\n",
    "    print(f'Accuracy: {epoch_acc:.2f}%')\n",
    "    print('-'*50)\n",
    "    \n",
    "    if epoch_acc > best_acc:\n",
    "        best_acc = epoch_acc\n",
    "        torch.save(model.state_dict(), 'best_model.pth')\n",
    "\n",
    "model.load_state_dict(torch.load('best_model.pth', weights_only=True))\n",
    "model.eval()\n",
    "\n",
    "print('\\nClassification Report:')\n",
    "print(classification_report(all_labels, all_preds, target_names=class_names))\n",
    "\n",
    "plt.figure(figsize=(20,15))\n",
    "plt.imshow(confusion_matrix(all_labels, all_preds), cmap='Blues')\n",
    "plt.title('Confusion Matrix')\n",
    "plt.xlabel('Predicted Labels')\n",
    "plt.ylabel('True Labels')\n",
    "plt.savefig('confusion_matrix.png')\n",
    "plt.close()\n",
    "\n",
    "plt.plot(progress)\n",
    "plt.title('Validation Accuracy Progress')\n",
    "plt.xlabel('Epoch')\n",
    "plt.ylabel('Accuracy (%)')\n",
    "plt.savefig('training_progress.png')\n",
    "plt.close()\n",
    "\n",
    "fig, axes = plt.subplots(3, 3, figsize=(15, 10))\n",
    "for idx, ax in enumerate(axes.flat):\n",
    "    image, label = test_data[np.random.randint(len(test_data))]\n",
    "    with torch.no_grad():\n",
    "        output = model(image.unsqueeze(0).to(device))\n",
    "        pred = torch.argmax(output).item()\n",
    "    \n",
    "    image = image.cpu().numpy().transpose((1, 2, 0))\n",
    "    image = image * np.array([0.229, 0.224, 0.225]) + np.array([0.485, 0.456, 0.406])\n",
    "    image = np.clip(image, 0, 1)\n",
    "    \n",
    "    ax.imshow(image)\n",
    "    ax.set_title(f\"True: {class_names[label]}\\nPred: {class_names[pred]}\", fontsize=9)\n",
    "    ax.axis('off')\n",
    "plt.tight_layout()\n",
    "plt.savefig('sample_predictions.png')\n",
    "plt.close()\n",
    "\n",
    "pd.DataFrame({\n",
    "    'True_Label': all_labels,\n",
    "    'Predicted_Label': all_preds,\n",
    "    'Correct': [t == p for t, p in zip(all_labels, all_preds)]\n",
    "}).to_csv('predictions.csv', index=False)\n",
    "\n",
    "print('\\nOutput Files Generated:')\n",
    "print('- confusion_matrix.png\\n- training_progress.png\\n- sample_predictions.png\\n- predictions.csv\\n- best_model.pth')"
   ]
  }
 ],
 "metadata": {
  "kernelspec": {
   "display_name": "Python [conda env:base] *",
   "language": "python",
   "name": "conda-base-py"
  },
  "language_info": {
   "codemirror_mode": {
    "name": "ipython",
    "version": 3
   },
   "file_extension": ".py",
   "mimetype": "text/x-python",
   "name": "python",
   "nbconvert_exporter": "python",
   "pygments_lexer": "ipython3",
   "version": "3.12.7"
  }
 },
 "nbformat": 4,
 "nbformat_minor": 5
}
